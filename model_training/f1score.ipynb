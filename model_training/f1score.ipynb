{
 "cells": [
  {
   "cell_type": "code",
   "execution_count": 12,
   "metadata": {
    "executionInfo": {
     "elapsed": 3173,
     "status": "ok",
     "timestamp": 1695266971640,
     "user": {
      "displayName": "박다은",
      "userId": "04439404134129938487"
     },
     "user_tz": -540
    },
    "id": "if-mewnT82Vc"
   },
   "outputs": [],
   "source": [
    "import matplotlib.pyplot as plt\n",
    "import numpy as np\n",
    "import PIL\n",
    "import tensorflow as tf\n",
    "from tensorflow.keras.applications import resnet_v2, vgg16, vgg19\n",
    "# from tensorflow import keras\n",
    "from tensorflow.keras import layers\n",
    "# from tensorflow.keras.models import Sequential\n",
    "from PIL import Image\n",
    "\n",
    "import os\n",
    "import pathlib"
   ]
  },
  {
   "cell_type": "code",
   "execution_count": 13,
   "metadata": {
    "executionInfo": {
     "elapsed": 22,
     "status": "ok",
     "timestamp": 1695266971642,
     "user": {
      "displayName": "박다은",
      "userId": "04439404134129938487"
     },
     "user_tz": -540
    },
    "id": "-dvlDDYF84ge"
   },
   "outputs": [],
   "source": [
    "data_path = \"/home/aiia/daeun/data/ckval\"\n",
    "data_dir = pathlib.Path(data_path)"
   ]
  },
  {
   "cell_type": "code",
   "execution_count": 14,
   "metadata": {
    "executionInfo": {
     "elapsed": 21,
     "status": "ok",
     "timestamp": 1695266971643,
     "user": {
      "displayName": "박다은",
      "userId": "04439404134129938487"
     },
     "user_tz": -540
    },
    "id": "qg-2eRDr851X"
   },
   "outputs": [],
   "source": [
    "img_height =  512\n",
    "img_width = 128\n",
    "batch_size = 1"
   ]
  },
  {
   "cell_type": "code",
   "execution_count": 15,
   "metadata": {
    "executionInfo": {
     "elapsed": 32851,
     "status": "ok",
     "timestamp": 1695267004474,
     "user": {
      "displayName": "박다은",
      "userId": "04439404134129938487"
     },
     "user_tz": -540
    },
    "id": "Cok9MdLs894v"
   },
   "outputs": [],
   "source": [
    "model = tf.keras.models.load_model('/home/aiia/daeun/data/test_check_point/saved-model-12-1.00.h5')"
   ]
  },
  {
   "cell_type": "code",
   "execution_count": 16,
   "metadata": {
    "colab": {
     "base_uri": "https://localhost:8080/"
    },
    "executionInfo": {
     "elapsed": 1206,
     "status": "ok",
     "timestamp": 1695267087335,
     "user": {
      "displayName": "박다은",
      "userId": "04439404134129938487"
     },
     "user_tz": -540
    },
    "id": "FNbb7K21souO",
    "outputId": "ec2b58a5-6219-44ad-c739-e33e8ee26e4c"
   },
   "outputs": [
    {
     "name": "stdout",
     "output_type": "stream",
     "text": [
      "Found 125 files belonging to 2 classes.\n"
     ]
    }
   ],
   "source": [
    "val_ds = tf.keras.utils.image_dataset_from_directory(\n",
    "  data_dir,\n",
    "#   validation_split=0.2,\n",
    "#   seed=1234,\n",
    "#   subset='validation',\n",
    "  image_size=(img_height, img_width),\n",
    "  batch_size=batch_size)"
   ]
  },
  {
   "cell_type": "code",
   "execution_count": 17,
   "metadata": {
    "id": "Mvg2O4CQGMI1"
   },
   "outputs": [],
   "source": [
    "N_tp = 0\n",
    "N_tn = 0\n",
    "N_fp = 0\n",
    "N_fn = 0\n",
    "P_tp = 0\n",
    "P_tn = 0\n",
    "P_fp = 0\n",
    "P_fn = 0\n",
    "H_tp = 0\n",
    "H_tn = 0\n",
    "H_fp = 0\n",
    "H_fn = 0"
   ]
  },
  {
   "cell_type": "code",
   "execution_count": 18,
   "metadata": {
    "colab": {
     "base_uri": "https://localhost:8080/",
     "height": 90
    },
    "executionInfo": {
     "elapsed": 128449,
     "status": "ok",
     "timestamp": 1695012467353,
     "user": {
      "displayName": "박다은",
      "userId": "04439404134129938487"
     },
     "user_tz": -540
    },
    "id": "EEw8Cph5tB7O",
    "outputId": "c8fe1850-709a-4e42-bafc-9d2f12081d4f"
   },
   "outputs": [
    {
     "name": "stdout",
     "output_type": "stream",
     "text": [
      "125\n",
      "['0', '1']\n"
     ]
    },
    {
     "data": {
      "text/plain": [
       "<Figure size 51200x12800 with 0 Axes>"
      ]
     },
     "execution_count": 18,
     "metadata": {},
     "output_type": "execute_result"
    },
    {
     "data": {
      "text/plain": [
       "<Figure size 51200x12800 with 0 Axes>"
      ]
     },
     "metadata": {},
     "output_type": "display_data"
    }
   ],
   "source": [
    "val_file = np.concatenate([y for x, y in val_ds], axis=0) #val_ds의 class name\n",
    "class_names = val_ds.class_names\n",
    "print(len(val_file))\n",
    "print(class_names)\n",
    "\n",
    "plt.figure(figsize=(img_height, img_width))"
   ]
  },
  {
   "cell_type": "code",
   "execution_count": 31,
   "metadata": {
    "colab": {
     "base_uri": "https://localhost:8080/"
    },
    "executionInfo": {
     "elapsed": 59309,
     "status": "ok",
     "timestamp": 1695012526624,
     "user": {
      "displayName": "박다은",
      "userId": "04439404134129938487"
     },
     "user_tz": -540
    },
    "id": "5GfzpUK8LoPP",
    "outputId": "c5605342-ff11-4690-c222-ef80bb665a8d",
    "scrolled": false
   },
   "outputs": [
    {
     "name": "stdout",
     "output_type": "stream",
     "text": [
      "0 0\n",
      "0 0\n",
      "0 0\n",
      "1 1\n",
      "1 1\n",
      "0 0\n",
      "0 0\n",
      "0 0\n",
      "1 1\n",
      "0 0\n",
      "1 1\n",
      "0 0\n",
      "0 0\n",
      "0 0\n",
      "0 0\n",
      "0 0\n",
      "0 0\n",
      "0 0\n",
      "1 1\n",
      "0 0\n",
      "1 1\n",
      "1 1\n",
      "1 1\n",
      "0 0\n",
      "0 0\n",
      "0 0\n",
      "0 0\n",
      "0 0\n",
      "0 0\n",
      "0 0\n",
      "1 1\n",
      "0 0\n",
      "0 0\n",
      "0 0\n",
      "1 1\n",
      "0 0\n",
      "1 1\n",
      "1 1\n",
      "1 1\n",
      "0 0\n",
      "0 0\n",
      "0 0\n",
      "1 1\n",
      "0 0\n",
      "0 0\n",
      "1 1\n",
      "0 0\n",
      "1 1\n",
      "1 1\n",
      "1 1\n",
      "0 0\n",
      "0 0\n",
      "1 1\n",
      "0 0\n",
      "0 0\n",
      "0 0\n",
      "0 0\n",
      "0 0\n",
      "0 0\n",
      "0 0\n",
      "1 1\n",
      "1 1\n",
      "0 0\n",
      "1 1\n",
      "0 0\n",
      "0 0\n",
      "0 0\n",
      "1 1\n",
      "0 0\n",
      "1 1\n",
      "0 0\n",
      "0 0\n",
      "0 0\n",
      "0 0\n",
      "0 0\n",
      "0 0\n",
      "1 1\n",
      "1 1\n",
      "0 0\n",
      "0 0\n",
      "0 0\n",
      "1 1\n",
      "0 0\n",
      "0 0\n",
      "0 0\n",
      "1 1\n",
      "1 1\n",
      "0 0\n",
      "0 0\n",
      "0 0\n",
      "0 0\n",
      "0 0\n",
      "0 0\n",
      "0 0\n",
      "0 0\n",
      "0 0\n",
      "0 0\n",
      "0 0\n",
      "0 0\n",
      "0 0\n",
      "1 1\n",
      "0 0\n",
      "0 0\n",
      "0 0\n",
      "1 1\n",
      "0 0\n",
      "0 0\n",
      "0 0\n",
      "0 0\n",
      "1 1\n",
      "0 0\n",
      "0 0\n",
      "0 0\n",
      "0 0\n",
      "0 0\n",
      "1 1\n",
      "1 1\n",
      "0 0\n",
      "0 0\n",
      "0 0\n",
      "0 0\n",
      "0 0\n",
      "0 0\n",
      "0 0\n",
      "1 1\n"
     ]
    }
   ],
   "source": [
    "tmp = 0\n",
    "count = 0\n",
    "normal = 0\n",
    "ponzi = 1\n",
    "honey = 2\n",
    "for images, labels in val_ds: #validation 파일 개수 만큼 반복하기\n",
    "  # print(labels)\n",
    "  predict = model.predict(images, verbose=False)\n",
    "  pre = np.argmax(predict)\n",
    "  print(pre, int(labels[0]))\n",
    "#   print(tmp)\n",
    "  tmp += 1\n",
    "  t_n = normal\n",
    "  t_p = ponzi\n",
    "  t_h = honey\n",
    "    \n",
    "  if labels == t_n and pre == t_n:\n",
    "    N_tp += 1\n",
    "  elif labels == t_n and pre != t_n:\n",
    "    N_fn += 1\n",
    "  elif labels != t_n and pre == t_n:\n",
    "    N_fp += 1\n",
    "  elif labels != t_n and pre != t_n:\n",
    "    N_tn += 1\n",
    "\n",
    "  if labels == t_p and pre == t_p:\n",
    "    P_tp += 1\n",
    "  elif labels == t_p and pre != t_p:\n",
    "    P_fn += 1\n",
    "  elif labels != t_p and pre == t_p:\n",
    "    P_fp += 1\n",
    "  elif labels != t_p and pre != t_p:\n",
    "    P_tn += 1\n",
    "\n",
    "  if labels == t_h and pre == t_h:\n",
    "    H_tp += 1\n",
    "  elif labels == t_h and pre != t_h:\n",
    "    H_fn += 1\n",
    "  elif labels != t_h and pre == t_h:\n",
    "    H_fp += 1\n",
    "  elif labels != t_h and pre != t_h:\n",
    "    H_tn += 1"
   ]
  },
  {
   "cell_type": "code",
   "execution_count": 20,
   "metadata": {},
   "outputs": [
    {
     "name": "stdout",
     "output_type": "stream",
     "text": [
      "125\n"
     ]
    }
   ],
   "source": [
    "# 1884 - total\n",
    "# 651 - normal\n",
    "# 613 - ponzi\n",
    "# 620 -honey\n",
    "print(tmp)"
   ]
  },
  {
   "cell_type": "code",
   "execution_count": 21,
   "metadata": {
    "colab": {
     "base_uri": "https://localhost:8080/"
    },
    "executionInfo": {
     "elapsed": 30,
     "status": "ok",
     "timestamp": 1695012526624,
     "user": {
      "displayName": "박다은",
      "userId": "04439404134129938487"
     },
     "user_tz": -540
    },
    "id": "AcIC-cBAGJk2",
    "outputId": "7866681c-4544-4ed8-c975-379f07d1f2f3"
   },
   "outputs": [
    {
     "name": "stdout",
     "output_type": "stream",
     "text": [
      "1.0\n",
      "1.0 1.0\n",
      "\n",
      "\n",
      "1.0 1.0\n",
      "1.0\n",
      "\n",
      "\n"
     ]
    }
   ],
   "source": [
    "\n",
    "N_precision = N_tp / (N_tp + N_fp)\n",
    "N_recall = N_tp / (N_tp + N_fn)\n",
    "N_f1 = 2 * ((N_recall * N_precision) / (N_recall + N_precision))\n",
    "\n",
    "P_precision = P_tp / (P_tp + P_fp)\n",
    "P_recall = P_tp / (P_tp + P_fn)\n",
    "P_f1 = 2 * ((P_recall * P_precision) / (P_recall + P_precision))\n",
    "\n",
    "print(N_f1)\n",
    "print(N_precision, N_recall)\n",
    "print('\\n')\n",
    "\n",
    "print(P_precision, P_recall)\n",
    "print(P_f1)\n",
    "print('\\n')"
   ]
  },
  {
   "cell_type": "code",
   "execution_count": 22,
   "metadata": {},
   "outputs": [
    {
     "name": "stdout",
     "output_type": "stream",
     "text": [
      "0 0\n"
     ]
    },
    {
     "ename": "ZeroDivisionError",
     "evalue": "division by zero",
     "output_type": "error",
     "traceback": [
      "\u001b[0;31m---------------------------------------------------------------------------\u001b[0m",
      "\u001b[0;31mZeroDivisionError\u001b[0m                         Traceback (most recent call last)",
      "Cell \u001b[0;32mIn[22], line 2\u001b[0m\n\u001b[1;32m      1\u001b[0m \u001b[38;5;28mprint\u001b[39m(H_tp, H_fp)\n\u001b[0;32m----> 2\u001b[0m H_precision \u001b[38;5;241m=\u001b[39m H_tp \u001b[38;5;241m/\u001b[39m (H_tp \u001b[38;5;241m+\u001b[39m H_fp)\n\u001b[1;32m      3\u001b[0m H_recall \u001b[38;5;241m=\u001b[39m H_tp \u001b[38;5;241m/\u001b[39m (H_tp \u001b[38;5;241m+\u001b[39m H_fn)\n\u001b[1;32m      4\u001b[0m H_f1 \u001b[38;5;241m=\u001b[39m \u001b[38;5;241m2\u001b[39m \u001b[38;5;241m*\u001b[39m ((H_recall \u001b[38;5;241m*\u001b[39m H_precision) \u001b[38;5;241m/\u001b[39m (H_recall \u001b[38;5;241m+\u001b[39m H_precision))\n",
      "\u001b[0;31mZeroDivisionError\u001b[0m: division by zero"
     ]
    }
   ],
   "source": [
    "print(H_tp, H_fp)\n",
    "H_precision = H_tp / (H_tp + H_fp)\n",
    "H_recall = H_tp / (H_tp + H_fn)\n",
    "H_f1 = 2 * ((H_recall * H_precision) / (H_recall + H_precision))\n",
    "print(H_precision, H_recall)\n",
    "print(H_f1)"
   ]
  },
  {
   "cell_type": "code",
   "execution_count": null,
   "metadata": {},
   "outputs": [],
   "source": []
  }
 ],
 "metadata": {
  "accelerator": "GPU",
  "colab": {
   "authorship_tag": "ABX9TyOv1evJYgN+CY/0/SVdVJ2s",
   "gpuType": "T4",
   "mount_file_id": "1v_gXwMEnO-McRj1-SZ72We14RWe9JEmo",
   "provenance": []
  },
  "kernelspec": {
   "display_name": "Python 3 (ipykernel)",
   "language": "python",
   "name": "python3"
  },
  "language_info": {
   "codemirror_mode": {
    "name": "ipython",
    "version": 3
   },
   "file_extension": ".py",
   "mimetype": "text/x-python",
   "name": "python",
   "nbconvert_exporter": "python",
   "pygments_lexer": "ipython3",
   "version": "3.11.5"
  }
 },
 "nbformat": 4,
 "nbformat_minor": 4
}
